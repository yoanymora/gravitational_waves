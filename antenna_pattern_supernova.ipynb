{
 "cells": [
  {
   "cell_type": "markdown",
   "metadata": {},
   "source": [
    "# antenna pattern supernova SN2017gax"
   ]
  },
  {
   "cell_type": "markdown",
   "metadata": {},
   "source": [
    "# right ascension and declination"
   ]
  },
  {
   "cell_type": "code",
   "execution_count": 2,
   "metadata": {
    "scrolled": true
   },
   "outputs": [
    {
     "name": "stdout",
     "output_type": "stream",
     "text": [
      "Right ascension: 1.23918376892 Declination: -1.02974425868 \n"
     ]
    }
   ],
   "source": [
    "import numpy as np\n",
    "# DATA: https://wis-tns.weizmann.ac.il/object/2017gax\n",
    "# RA = 04:45:49.430 (71.455958) DEC = -59:14:42.56 (-59.245156)\n",
    "\n",
    "# transform RA and DEC from h:m:s to rad\n",
    "# formula: https://physics.stackexchange.com/questions/224950/how-can-i-convert-right-ascension-and-declination-to-distances\n",
    "# 𝛼 = (𝑅𝐴ℎ∗15+𝑅𝐴𝑚/4+𝑅𝐴𝑠/240)×𝜋/180 right ascension\n",
    "r_a = (4 * 15 + (45/4) + (49/240)) * (np.pi/180)\n",
    "# 𝛿 = (𝐷𝐸𝑑±𝐷𝐸𝑚/60±𝐷𝐸𝑠/3600)×𝜋/180 declination\n",
    "dec = (-59 - (14/60) - (42/3600)) * (np.pi/180)\n",
    "\n",
    "print(\"Right ascension: %s \"\n",
    "      \"Declination: %s \" % (str(r_a), str(dec)))\n"
   ]
  },
  {
   "cell_type": "markdown",
   "metadata": {},
   "source": [
    "# antenna pattern calculus PyCBC"
   ]
  },
  {
   "cell_type": "code",
   "execution_count": 25,
   "metadata": {},
   "outputs": [
    {
     "data": {
      "text/html": [
       "        <script type=\"text/javascript\">\n",
       "        window.PlotlyConfig = {MathJaxConfig: 'local'};\n",
       "        if (window.MathJax) {MathJax.Hub.Config({SVG: {font: \"STIX-Web\"}});}\n",
       "        if (typeof require !== 'undefined') {\n",
       "        require.undef(\"plotly\");\n",
       "        requirejs.config({\n",
       "            paths: {\n",
       "                'plotly': ['https://cdn.plot.ly/plotly-latest.min']\n",
       "            }\n",
       "        });\n",
       "        require(['plotly'], function(Plotly) {\n",
       "            window._Plotly = Plotly;\n",
       "        });\n",
       "        }\n",
       "        </script>\n",
       "        "
      ]
     },
     "metadata": {},
     "output_type": "display_data"
    },
    {
     "name": "stdout",
     "output_type": "stream",
     "text": [
      "Hanford\n",
      " Fp^2: 0.7348897121732607\n",
      " Fc^2: 2.7415158322690218e-05\n",
      " sqrt{F}: 0.8572730762899202\n",
      "\n",
      "Livingston\n",
      " Fp^2: 0.5566678313131106\n",
      " Fc^2: 0.03295473729964064\n",
      " sqrt{F}: 0.7678688485755567\n",
      "\n",
      "Virgo\n",
      " Fp^2: 0.12378964271348476\n",
      " Fc^2: 0.3083366984095737\n",
      " sqrt{F}: 0.6573631729288296\n",
      "\n"
     ]
    }
   ],
   "source": [
    "import numpy as np\n",
    "import plotly.plotly\n",
    "plotly.offline.init_notebook_mode(connected=True)\n",
    "import plotly.offline as py\n",
    "import plotly.graph_objs as go\n",
    "\n",
    "import pycbc\n",
    "from pycbc.detector import Detector\n",
    "\n",
    "# Euler's angles \n",
    "theta = 1.23918376892 # right ascension\n",
    "phi = -1.02974425868 # declination\n",
    "psi = 0 # polarization\n",
    "\n",
    "# declare time of earth rotation\n",
    "time = 1000000000\n",
    "\n",
    "# array with observatories \n",
    "obs = [Detector(\"H1\"), Detector(\"L1\"), Detector(\"V1\")]\n",
    "obs_name = [\"Hanford\", \"Livingston\", \"Virgo\"]\n",
    "\n",
    "# compute antenna pattern f-plus and f-cross for every detector\n",
    "for detector in range(len(obs)):\n",
    "    fp, fc = obs[detector].antenna_pattern(phi, theta, psi, time)\n",
    "    fp2 = pow(fp, 2)\n",
    "    fc2 = pow(fc, 2)\n",
    "    f = pow((fp2 + fc2), 0.5)\n",
    "    print(obs_name[detector])\n",
    "    print(\" Fp^2: %s\\n Fc^2: %s\\n sqrt{F}: %s\\n\" % (str(fp2), str(fc2), str(f)))\n"
   ]
  },
  {
   "cell_type": "code",
   "execution_count": null,
   "metadata": {},
   "outputs": [],
   "source": []
  }
 ],
 "metadata": {
  "kernelspec": {
   "display_name": "Python 2",
   "language": "python",
   "name": "python2"
  },
  "language_info": {
   "codemirror_mode": {
    "name": "ipython",
    "version": 2
   },
   "file_extension": ".py",
   "mimetype": "text/x-python",
   "name": "python",
   "nbconvert_exporter": "python",
   "pygments_lexer": "ipython2",
   "version": "2.7.16"
  }
 },
 "nbformat": 4,
 "nbformat_minor": 2
}
