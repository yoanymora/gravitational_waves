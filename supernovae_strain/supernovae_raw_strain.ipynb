{
 "cells": [
  {
   "cell_type": "markdown",
   "metadata": {},
   "source": [
    "# compute h(t) from SN2017gax for Ligo and Virgo using PyCBC "
   ]
  },
  {
   "cell_type": "code",
   "execution_count": 1,
   "metadata": {},
   "outputs": [
    {
     "ename": "SyntaxError",
     "evalue": "Non-ASCII character '\\xf3' in file GW_CCSNeFromCatalog.py on line 1, but no encoding declared; see http://python.org/dev/peps/pep-0263/ for details (GW_CCSNeFromCatalog.py, line 1)",
     "output_type": "error",
     "traceback": [
      "\u001b[0;36m  File \u001b[0;32m\"GW_CCSNeFromCatalog.py\"\u001b[0;36m, line \u001b[0;32m1\u001b[0m\n\u001b[0;31m    \u0003�\u001b[0m\n\u001b[0m      ^\u001b[0m\n\u001b[0;31mSyntaxError\u001b[0m\u001b[0;31m:\u001b[0m Non-ASCII character '\\xf3' in file GW_CCSNeFromCatalog.py on line 1, but no encoding declared; see http://python.org/dev/peps/pep-0263/ for details\n"
     ]
    }
   ],
   "source": [
    "import GW_CCSNeFromCatalog\n",
    "import numpy as np\n",
    "import GW_Template\n",
    "import pycbc\n",
    "from pycbc.detector import Detector\n",
    "import pylab\n",
    "\n",
    "# choose a template\n",
    "approx = 'And1' # ('And1','Dim1','Ott1','Yak1')\n",
    "\n",
    "# read and plot raw template\n",
    "# compute hp, hc from raw data\n",
    "t, hp, hc, h = GW_CCSNeFromCatalog.Read(approx,0)\n",
    "\n",
    "# source parameters: SN2017gax\n",
    "theta = 1.23918376892 # right ascension\n",
    "phi = -1.02974425868 # declination\n",
    "psi = 0.2 # random polarization angle\n",
    "time = 100\n",
    "\n",
    "# observatories\n",
    "lab = [Detector('H1'), Detector('L1'), Detector('V1')]\n",
    "lab_name = [\"Hanford\", \"Livingston\", \"Virgo\"]\n",
    "colors = ['c','g','b']\n",
    "\n",
    "fp = []\n",
    "fc = []\n",
    "\n",
    "# compute antenna pattern\n",
    "for index in range(len(lab)):\n",
    "    fp_aux, fc_aux = lab[index].antenna_pattern(theta, phi, psi, time)\n",
    "    fp.append(fp_aux)\n",
    "    fc.append(fc_aux)\n",
    "    # if you're curious about the numbers\n",
    "    #print(lab_name[index],\n",
    "    #      \"fp: %s, fc: %s\" % (str(fp[index]), str(fc[index]))\n",
    "    #     )\n",
    "    \n",
    "# set h(t)\n",
    "h = [] \n",
    "for index in range(len(fp)):\n",
    "    h.append(hp * fp[index] + hc * fc[index])\n",
    "    # if you're curious about the numbers\n",
    "    # print(\"Strain: %s\" % str(h))\n",
    "    # plot single signal\n",
    "    pylab.figure(index + 1)\n",
    "    pylab.plot(t, h[index], label = lab_name[index], color = colors[index])\n",
    "    pylab.title(\"Raw Strain \" + lab_name[index])\n",
    "    pylab.ylabel('Strain')\n",
    "    pylab.xlabel('Time (s)')\n",
    "    pylab.grid()\n",
    "    pylab.show()\n",
    "\n",
    "# plot every signal \n",
    "pylab.figure(index + 1)\n",
    "pylab.plot(t, h[0], label = lab_name[0], color = colors[0])\n",
    "pylab.plot(t, h[1], label = lab_name[1], color = colors[1])\n",
    "pylab.plot(t, h[2], label = lab_name[2], color = colors[2])\n",
    "pylab.title(\"Raw Strain\")\n",
    "pylab.ylabel('Strain')\n",
    "pylab.xlabel('Time (s)')\n",
    "pylab.grid()\n",
    "pylab.legend()\n",
    "pylab.show()"
   ]
  },
  {
   "cell_type": "code",
   "execution_count": null,
   "metadata": {},
   "outputs": [],
   "source": []
  }
 ],
 "metadata": {
  "kernelspec": {
   "display_name": "Python 2",
   "language": "python",
   "name": "python2"
  },
  "language_info": {
   "codemirror_mode": {
    "name": "ipython",
    "version": 2
   },
   "file_extension": ".py",
   "mimetype": "text/x-python",
   "name": "python",
   "nbconvert_exporter": "python",
   "pygments_lexer": "ipython2",
   "version": "2.7.16"
  }
 },
 "nbformat": 4,
 "nbformat_minor": 2
}
