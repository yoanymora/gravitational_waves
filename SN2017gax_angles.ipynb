{
 "cells": [
  {
   "cell_type": "markdown",
   "metadata": {},
   "source": [
    "# Supernova SN2017gax antenna pattern"
   ]
  },
  {
   "cell_type": "markdown",
   "metadata": {},
   "source": [
    "# right ascension and declination"
   ]
  },
  {
   "cell_type": "code",
   "execution_count": 2,
   "metadata": {
    "scrolled": true
   },
   "outputs": [
    {
     "name": "stdout",
     "output_type": "stream",
     "text": [
      "Right ascension: 1.23918376892 Declination: -1.02974425868 \n"
     ]
    }
   ],
   "source": [
    "import numpy as np\n",
    "# DATA: https://wis-tns.weizmann.ac.il/object/2017gax\n",
    "# RA = 04:45:49.430 (71.455958) DEC = -59:14:42.56 (-59.245156)\n",
    "\n",
    "# transform RA and DEC from h:m:s to rad\n",
    "# formula: https://physics.stackexchange.com/questions/224950/how-can-i-convert-right-ascension-and-declination-to-distances\n",
    "# 𝛼 = (𝑅𝐴ℎ∗15+𝑅𝐴𝑚/4+𝑅𝐴𝑠/240)×𝜋/180 right ascension\n",
    "r_a = (4 * 15 + (45/4) + (49/240)) * (np.pi/180)\n",
    "# 𝛿 = (𝐷𝐸𝑑±𝐷𝐸𝑚/60±𝐷𝐸𝑠/3600)×𝜋/180 declination\n",
    "dec = (-59 - (14/60) - (42/3600)) * (np.pi/180)\n",
    "\n",
    "print(\"Right ascension: %s \"\n",
    "      \"Declination: %s \" % (str(r_a), str(dec)))\n"
   ]
  },
  {
   "cell_type": "code",
   "execution_count": null,
   "metadata": {},
   "outputs": [],
   "source": []
  }
 ],
 "metadata": {
  "kernelspec": {
   "display_name": "Python 2",
   "language": "python",
   "name": "python2"
  },
  "language_info": {
   "codemirror_mode": {
    "name": "ipython",
    "version": 2
   },
   "file_extension": ".py",
   "mimetype": "text/x-python",
   "name": "python",
   "nbconvert_exporter": "python",
   "pygments_lexer": "ipython2",
   "version": "2.7.16"
  }
 },
 "nbformat": 4,
 "nbformat_minor": 2
}
